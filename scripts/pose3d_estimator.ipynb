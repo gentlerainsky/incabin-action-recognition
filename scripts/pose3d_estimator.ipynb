{
 "cells": [
  {
   "cell_type": "code",
   "execution_count": 1,
   "metadata": {},
   "outputs": [],
   "source": [
    "import torch\n",
    "import pandas as pd\n",
    "import numpy as np\n",
    "import pickle\n",
    "from tqdm import tqdm\n",
    "from modules.definition import (\n",
    "    bone_connections\n",
    ")\n",
    "bone_connections = np.array(bone_connections) - 1\n",
    "\n",
    "%load_ext autoreload\n",
    "%autoreload 2"
   ]
  },
  {
   "cell_type": "code",
   "execution_count": 2,
   "metadata": {},
   "outputs": [],
   "source": [
    "with open('output/inner_mirror_without_normalization/pose2D.pkl', 'rb') as f:\n",
    "    pose2d_list = pickle.load(f)\n",
    "\n",
    "with open('output/inner_mirror_without_normalization/frame_info.pkl', 'rb') as f:\n",
    "    frame_info_list = pickle.load(f)"
   ]
  },
  {
   "cell_type": "code",
   "execution_count": 3,
   "metadata": {},
   "outputs": [],
   "source": [
    "from modules.pose_extractor.pose3d_estimator.pose3d_estimator import Pose3DEstimator\n",
    "from modules.pose_extractor.pose3d_estimator.jointformer.lit_jointformer import LitJointFormer\n",
    "from modules.pose_extractor.pose3d_estimator.pose2d_dataset import Pose2DDataset\n",
    "\n",
    "\n",
    "pose2d_dataset = Pose2DDataset(frame_info_list=frame_info_list, pose2d_list=pose2d_list)\n",
    "train_loader = torch.utils.data.DataLoader(\n",
    "        pose2d_dataset, batch_size=256, num_workers=24, shuffle=True\n",
    "    )\n",
    "\n",
    "pose3d_estimator = Pose3DEstimator(\n",
    "    LitModel=LitJointFormer,\n",
    "    lifter_saved_model='saved_models/pose3d_estimator_without_normalization/all_actors/all_actors/lightning_logs/version_0/checkpoints/epoch=19-step=7020.ckpt'\n",
    ")"
   ]
  },
  {
   "cell_type": "code",
   "execution_count": 4,
   "metadata": {},
   "outputs": [
    {
     "name": "stderr",
     "output_type": "stream",
     "text": [
      "100%|██████████████████████████████████████████████████████████████████████████| 2738/2738 [00:30<00:00, 89.60it/s]\n"
     ]
    }
   ],
   "source": [
    "results = []\n",
    "for batch in tqdm(iter(train_loader)):\n",
    "    pose3d = pose3d_estimator.inference(batch)\n",
    "    dict_results = []\n",
    "    for index, pose_2d, root_2d, scale_factor_w, scale_factor_h, pose3d in list(\n",
    "        zip(\n",
    "            batch['frame_index'].detach().cpu().numpy().tolist(),\n",
    "            batch['pose_2d'].detach().cpu().numpy().tolist(),\n",
    "            batch['root_2d'].detach().cpu().numpy().tolist(),\n",
    "            batch['scale_factor'][0].detach().cpu().numpy().tolist(),\n",
    "            batch['scale_factor'][1].detach().cpu().numpy().tolist(),\n",
    "            pose3d.detach().cpu().numpy().tolist()\n",
    "        )\n",
    "    ):\n",
    "        dict_results.append(dict(\n",
    "            index=index,\n",
    "            pose_2d=np.array(pose_2d),\n",
    "            root_2d=np.array(root_2d),\n",
    "            scale_factor_w=scale_factor_w,\n",
    "            scale_factor_h=scale_factor_h,\n",
    "            pose_3d=np.array(pose3d)))\n",
    "    results += dict_results"
   ]
  },
  {
   "cell_type": "code",
   "execution_count": 5,
   "metadata": {},
   "outputs": [],
   "source": [
    "frame_info_df = pd.DataFrame(frame_info_list).set_index('frame_index').sort_index()\n",
    "pose_info_df = pd.DataFrame(results).set_index('index').sort_index()\n",
    "pose_df = frame_info_df.merge(pose_info_df, left_on='frame_index', right_on='index')"
   ]
  },
  {
   "cell_type": "code",
   "execution_count": 6,
   "metadata": {},
   "outputs": [],
   "source": [
    "with open('output/inner_mirror_without_normalization/pose_info.pkl', 'wb') as f:\n",
    "    pickle.dump(pose_df, f)"
   ]
  },
  {
   "cell_type": "code",
   "execution_count": null,
   "metadata": {},
   "outputs": [],
   "source": []
  }
 ],
 "metadata": {
  "kernelspec": {
   "display_name": "Python 3 (ipykernel)",
   "language": "python",
   "name": "python3"
  },
  "language_info": {
   "codemirror_mode": {
    "name": "ipython",
    "version": 3
   },
   "file_extension": ".py",
   "mimetype": "text/x-python",
   "name": "python",
   "nbconvert_exporter": "python",
   "pygments_lexer": "ipython3",
   "version": "3.10.11"
  }
 },
 "nbformat": 4,
 "nbformat_minor": 2
}
