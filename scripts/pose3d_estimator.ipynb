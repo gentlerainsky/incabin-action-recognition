{
 "cells": [
  {
   "cell_type": "code",
   "execution_count": 1,
   "metadata": {},
   "outputs": [],
   "source": [
    "import torch\n",
    "import pandas as pd\n",
    "import numpy as np\n",
    "import pickle\n",
    "from tqdm import tqdm\n",
    "%load_ext autoreload\n",
    "%autoreload 2"
   ]
  },
  {
   "cell_type": "code",
   "execution_count": 2,
   "metadata": {},
   "outputs": [],
   "source": [
    "with open('output/inner_mirror_with_padding/pose2D.pkl', 'rb') as f:\n",
    "    pose2d_list = pickle.load(f)\n",
    "\n",
    "with open('output/inner_mirror_with_padding/frame_info.pkl', 'rb') as f:\n",
    "    frame_info_list = pickle.load(f)"
   ]
  },
  {
   "cell_type": "code",
   "execution_count": 3,
   "metadata": {},
   "outputs": [],
   "source": [
    "from modules.pose_extractor.pose3d_estimator.pose3d_estimator import Pose3DEstimator\n",
    "from modules.pose_extractor.pose3d_estimator.jointformer.lit_jointformer import LitJointFormer\n",
    "from modules.pose_extractor.pose3d_estimator.pose2d_dataset import Pose2DDataset\n",
    "\n",
    "\n",
    "pose2d_dataset = Pose2DDataset(frame_info_list=frame_info_list, pose2d_list=pose2d_list)\n",
    "train_loader = torch.utils.data.DataLoader(\n",
    "        pose2d_dataset, batch_size=256, num_workers=24, shuffle=True\n",
    "    )\n",
    "\n",
    "pose3d_estimator = Pose3DEstimator(\n",
    "    LitModel=LitJointFormer,\n",
    "    lifter_saved_model='saved_models/pose3d_estimator/all_actors/jointformer/lightning_logs/version_0/checkpoints/epoch=34-step=12285.ckpt'\n",
    ")"
   ]
  },
  {
   "cell_type": "code",
   "execution_count": 4,
   "metadata": {},
   "outputs": [
    {
     "name": "stderr",
     "output_type": "stream",
     "text": [
      "100%|███████████████████████████████████████| 2738/2738 [00:36<00:00, 74.12it/s]\n"
     ]
    }
   ],
   "source": [
    "results = []\n",
    "for batch in tqdm(iter(train_loader)):\n",
    "    pose3d = pose3d_estimator.inference(batch)\n",
    "    dict_results = []\n",
    "    for index, pose_2d, root_2d, scale_factor_w, scale_factor_h, pose3d in list(\n",
    "        zip(\n",
    "            batch['frame_index'].detach().cpu().numpy().tolist(),\n",
    "            batch['pose_2d'].detach().cpu().numpy().tolist(),\n",
    "            batch['root_2d'].detach().cpu().numpy().tolist(),\n",
    "            batch['scale_factor'][0].detach().cpu().numpy().tolist(),\n",
    "            batch['scale_factor'][1].detach().cpu().numpy().tolist(),\n",
    "            pose3d.detach().cpu().numpy().tolist()\n",
    "        )\n",
    "    ):\n",
    "        dict_results.append(dict(\n",
    "            index=index,\n",
    "            pose_2d=pose_2d,\n",
    "            root_2d=root_2d,\n",
    "            scale_factor_w=scale_factor_w,\n",
    "            scale_factor_h=scale_factor_h,\n",
    "            pose_3d=pose3d))\n",
    "    results += dict_results"
   ]
  },
  {
   "cell_type": "code",
   "execution_count": 5,
   "metadata": {},
   "outputs": [],
   "source": [
    "with open('output/inner_mirror_with_padding/pose_info.pkl', 'wb') as f:\n",
    "    pickle.dump(results, f)"
   ]
  },
  {
   "cell_type": "code",
   "execution_count": 6,
   "metadata": {},
   "outputs": [],
   "source": [
    "tmp_df = pd.DataFrame(results)"
   ]
  },
  {
   "cell_type": "code",
   "execution_count": 7,
   "metadata": {},
   "outputs": [],
   "source": [
    "tmp_df = tmp_df.sort_values('index')"
   ]
  },
  {
   "cell_type": "code",
   "execution_count": 8,
   "metadata": {},
   "outputs": [
    {
     "data": {
      "text/plain": [
       "700843"
      ]
     },
     "execution_count": 8,
     "metadata": {},
     "output_type": "execute_result"
    }
   ],
   "source": [
    "len(results)"
   ]
  },
  {
   "cell_type": "code",
   "execution_count": 9,
   "metadata": {},
   "outputs": [
    {
     "data": {
      "text/plain": [
       "700843"
      ]
     },
     "execution_count": 9,
     "metadata": {},
     "output_type": "execute_result"
    }
   ],
   "source": [
    "len(frame_info_list)"
   ]
  },
  {
   "cell_type": "code",
   "execution_count": 10,
   "metadata": {},
   "outputs": [
    {
     "data": {
      "text/html": [
       "<div>\n",
       "<style scoped>\n",
       "    .dataframe tbody tr th:only-of-type {\n",
       "        vertical-align: middle;\n",
       "    }\n",
       "\n",
       "    .dataframe tbody tr th {\n",
       "        vertical-align: top;\n",
       "    }\n",
       "\n",
       "    .dataframe thead th {\n",
       "        text-align: right;\n",
       "    }\n",
       "</style>\n",
       "<table border=\"1\" class=\"dataframe\">\n",
       "  <thead>\n",
       "    <tr style=\"text-align: right;\">\n",
       "      <th></th>\n",
       "      <th>index</th>\n",
       "      <th>pose_2d</th>\n",
       "      <th>root_2d</th>\n",
       "      <th>scale_factor_w</th>\n",
       "      <th>scale_factor_h</th>\n",
       "      <th>pose_3d</th>\n",
       "    </tr>\n",
       "  </thead>\n",
       "  <tbody>\n",
       "    <tr>\n",
       "      <th>98726</th>\n",
       "      <td>0</td>\n",
       "      <td>[[-0.2419912566721685, 0.23354965254237767], [...</td>\n",
       "      <td>[678.8348508470718, 293.5010224218897]</td>\n",
       "      <td>370.804039</td>\n",
       "      <td>464.364574</td>\n",
       "      <td>[[0.024415314197540283, 0.02220449596643448, 0...</td>\n",
       "    </tr>\n",
       "    <tr>\n",
       "      <th>594504</th>\n",
       "      <td>1</td>\n",
       "      <td>[[0.7851466624717325, -0.13325511573045093], [...</td>\n",
       "      <td>[675.787124873307, 296.429846223951]</td>\n",
       "      <td>363.684897</td>\n",
       "      <td>567.013209</td>\n",
       "      <td>[[0.13263992965221405, -0.040789805352687836, ...</td>\n",
       "    </tr>\n",
       "    <tr>\n",
       "      <th>207838</th>\n",
       "      <td>2</td>\n",
       "      <td>[[-0.24467456126438158, 0.22606250361437633], ...</td>\n",
       "      <td>[682.8855701779067, 291.02653253478445]</td>\n",
       "      <td>369.774037</td>\n",
       "      <td>477.809359</td>\n",
       "      <td>[[0.02548731118440628, 0.023366957902908325, 0...</td>\n",
       "    </tr>\n",
       "    <tr>\n",
       "      <th>637198</th>\n",
       "      <td>3</td>\n",
       "      <td>[[-0.24405026438726524, 0.16948461187091535], ...</td>\n",
       "      <td>[681.9270605339568, 296.5707343573449]</td>\n",
       "      <td>359.798944</td>\n",
       "      <td>583.737259</td>\n",
       "      <td>[[0.040584903210401535, -0.013084925711154938,...</td>\n",
       "    </tr>\n",
       "    <tr>\n",
       "      <th>21199</th>\n",
       "      <td>4</td>\n",
       "      <td>[[0.7653742295095523, -0.13845419246896554], [...</td>\n",
       "      <td>[684.5113896012731, 290.19153639614143]</td>\n",
       "      <td>377.109710</td>\n",
       "      <td>482.990141</td>\n",
       "      <td>[[0.12188244611024857, -0.037278518080711365, ...</td>\n",
       "    </tr>\n",
       "    <tr>\n",
       "      <th>...</th>\n",
       "      <td>...</td>\n",
       "      <td>...</td>\n",
       "      <td>...</td>\n",
       "      <td>...</td>\n",
       "      <td>...</td>\n",
       "      <td>...</td>\n",
       "    </tr>\n",
       "    <tr>\n",
       "      <th>38146</th>\n",
       "      <td>700838</td>\n",
       "      <td>[[-0.013138014711380793, -0.21142890512127982]...</td>\n",
       "      <td>[975.5589306300742, 393.94255846017285]</td>\n",
       "      <td>370.941299</td>\n",
       "      <td>591.957234</td>\n",
       "      <td>[[0.0051663899794220924, -0.14868715405464172,...</td>\n",
       "    </tr>\n",
       "    <tr>\n",
       "      <th>421544</th>\n",
       "      <td>700839</td>\n",
       "      <td>[[0.2508698922011951, -0.35552890805092086], [...</td>\n",
       "      <td>[883.7946016769315, 376.12863137771524]</td>\n",
       "      <td>354.830550</td>\n",
       "      <td>371.025236</td>\n",
       "      <td>[[0.09904636442661285, -0.16549000144004822, -...</td>\n",
       "    </tr>\n",
       "    <tr>\n",
       "      <th>148053</th>\n",
       "      <td>700840</td>\n",
       "      <td>[[0.21851344704983414, -0.20983741132972916], ...</td>\n",
       "      <td>[879.803681187412, 374.6336703669537]</td>\n",
       "      <td>418.756658</td>\n",
       "      <td>609.870701</td>\n",
       "      <td>[[0.1464637964963913, -0.10237132012844086, 0....</td>\n",
       "    </tr>\n",
       "    <tr>\n",
       "      <th>617981</th>\n",
       "      <td>700841</td>\n",
       "      <td>[[-0.013321627402003785, -0.22008265062328541]...</td>\n",
       "      <td>[973.9085571928587, 392.24742493844644]</td>\n",
       "      <td>347.025294</td>\n",
       "      <td>609.480813</td>\n",
       "      <td>[[-0.03899464011192322, -0.11350341886281967, ...</td>\n",
       "    </tr>\n",
       "    <tr>\n",
       "      <th>416787</th>\n",
       "      <td>700842</td>\n",
       "      <td>[[0.018397290272730852, -0.20720603005066554],...</td>\n",
       "      <td>[957.7044021380084, 385.06338124138694]</td>\n",
       "      <td>417.868141</td>\n",
       "      <td>627.155233</td>\n",
       "      <td>[[0.017270127311348915, -0.07952109724283218, ...</td>\n",
       "    </tr>\n",
       "  </tbody>\n",
       "</table>\n",
       "<p>700843 rows × 6 columns</p>\n",
       "</div>"
      ],
      "text/plain": [
       "         index                                            pose_2d  \\\n",
       "98726        0  [[-0.2419912566721685, 0.23354965254237767], [...   \n",
       "594504       1  [[0.7851466624717325, -0.13325511573045093], [...   \n",
       "207838       2  [[-0.24467456126438158, 0.22606250361437633], ...   \n",
       "637198       3  [[-0.24405026438726524, 0.16948461187091535], ...   \n",
       "21199        4  [[0.7653742295095523, -0.13845419246896554], [...   \n",
       "...        ...                                                ...   \n",
       "38146   700838  [[-0.013138014711380793, -0.21142890512127982]...   \n",
       "421544  700839  [[0.2508698922011951, -0.35552890805092086], [...   \n",
       "148053  700840  [[0.21851344704983414, -0.20983741132972916], ...   \n",
       "617981  700841  [[-0.013321627402003785, -0.22008265062328541]...   \n",
       "416787  700842  [[0.018397290272730852, -0.20720603005066554],...   \n",
       "\n",
       "                                        root_2d  scale_factor_w  \\\n",
       "98726    [678.8348508470718, 293.5010224218897]      370.804039   \n",
       "594504     [675.787124873307, 296.429846223951]      363.684897   \n",
       "207838  [682.8855701779067, 291.02653253478445]      369.774037   \n",
       "637198   [681.9270605339568, 296.5707343573449]      359.798944   \n",
       "21199   [684.5113896012731, 290.19153639614143]      377.109710   \n",
       "...                                         ...             ...   \n",
       "38146   [975.5589306300742, 393.94255846017285]      370.941299   \n",
       "421544  [883.7946016769315, 376.12863137771524]      354.830550   \n",
       "148053    [879.803681187412, 374.6336703669537]      418.756658   \n",
       "617981  [973.9085571928587, 392.24742493844644]      347.025294   \n",
       "416787  [957.7044021380084, 385.06338124138694]      417.868141   \n",
       "\n",
       "        scale_factor_h                                            pose_3d  \n",
       "98726       464.364574  [[0.024415314197540283, 0.02220449596643448, 0...  \n",
       "594504      567.013209  [[0.13263992965221405, -0.040789805352687836, ...  \n",
       "207838      477.809359  [[0.02548731118440628, 0.023366957902908325, 0...  \n",
       "637198      583.737259  [[0.040584903210401535, -0.013084925711154938,...  \n",
       "21199       482.990141  [[0.12188244611024857, -0.037278518080711365, ...  \n",
       "...                ...                                                ...  \n",
       "38146       591.957234  [[0.0051663899794220924, -0.14868715405464172,...  \n",
       "421544      371.025236  [[0.09904636442661285, -0.16549000144004822, -...  \n",
       "148053      609.870701  [[0.1464637964963913, -0.10237132012844086, 0....  \n",
       "617981      609.480813  [[-0.03899464011192322, -0.11350341886281967, ...  \n",
       "416787      627.155233  [[0.017270127311348915, -0.07952109724283218, ...  \n",
       "\n",
       "[700843 rows x 6 columns]"
      ]
     },
     "execution_count": 10,
     "metadata": {},
     "output_type": "execute_result"
    }
   ],
   "source": [
    "tmp_df"
   ]
  }
 ],
 "metadata": {
  "kernelspec": {
   "display_name": "Python 3 (ipykernel)",
   "language": "python",
   "name": "python3"
  }
 },
 "nbformat": 4,
 "nbformat_minor": 2
}
