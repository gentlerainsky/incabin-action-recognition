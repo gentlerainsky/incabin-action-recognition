{
 "cells": [
  {
   "cell_type": "code",
   "execution_count": 1,
   "metadata": {},
   "outputs": [
    {
     "name": "stderr",
     "output_type": "stream",
     "text": [
      "Seed set to 1234\n"
     ]
    },
    {
     "data": {
      "text/plain": [
       "1234"
      ]
     },
     "execution_count": 1,
     "metadata": {},
     "output_type": "execute_result"
    }
   ],
   "source": [
    "import pickle\n",
    "import torch\n",
    "import pytorch_lightning as pl\n",
    "import pandas as pd\n",
    "import numpy as np\n",
    "from pathlib import Path\n",
    "from pytorch_lightning.callbacks import ModelCheckpoint\n",
    "from pytorch_lightning.callbacks.early_stopping import EarlyStopping\n",
    "from torch.utils.data import DataLoader\n",
    "from sklearn.model_selection import train_test_split\n",
    "from modules.action_recognizer.dataset.pose_dataset import PoseDataset, all_activities\n",
    "from modules.action_recognizer.models.action_transformer.lit_action_transformer import LitActionTransformer\n",
    "import shutil\n",
    "\n",
    "pl.seed_everything(1234)"
   ]
  },
  {
   "cell_type": "code",
   "execution_count": 2,
   "metadata": {},
   "outputs": [],
   "source": [
    "with open('output/inner_mirror_with_padding/pose_info.pkl', 'rb') as f:\n",
    "    pose_df = pickle.load(f)\n",
    "\n",
    "with open('output/inner_mirror_with_padding/annotation.pkl', 'rb') as f:\n",
    "    annotation_df = pickle.load(f)"
   ]
  },
  {
   "cell_type": "code",
   "execution_count": 3,
   "metadata": {},
   "outputs": [],
   "source": [
    "from modules.definition import bone_connections"
   ]
  },
  {
   "cell_type": "code",
   "execution_count": 49,
   "metadata": {},
   "outputs": [],
   "source": [
    "bone_list = []\n",
    "velocity_list = []\n",
    "for index, row in annotation_df.iterrows():\n",
    "    start, end = row.frame_index_start, row.frame_index_end\n",
    "    frame_seq = pose_df.loc[start: end - 1]\n",
    "    pose_3d_list = frame_seq['pose_3d']\n",
    "\n",
    "    pose_3d = np.stack(pose_3d_list.values)\n",
    "    bones = []\n",
    "    for bone_connection in bone_connections:\n",
    "        kp_from, kp_to = bone_connection\n",
    "        bone = pose_3d[:, kp_to - 1, :] - pose_3d[:, kp_from - 1, :]\n",
    "        bones.append(bone)\n",
    "    bone_data = np.stack(bones, axis=1)\n",
    "    velocity = np.zeros_like(pose_3d)\n",
    "    velocity[:-1] = pose_3d[1:] - pose_3d[:-1]\n",
    "    velocity_list += velocity.tolist()\n",
    "    bone_list += bone_data.tolist()\n",
    "pose_df = pose_df.assign(bone=pd.Series(bone_list))\n",
    "pose_df = pose_df.assign(velocity=pd.Series(velocity_list))"
   ]
  },
  {
   "cell_type": "code",
   "execution_count": 50,
   "metadata": {},
   "outputs": [],
   "source": [
    "pose_df.to_pickle('output/inner_mirror_with_padding/new_pose_info.pkl')"
   ]
  },
  {
   "cell_type": "code",
   "execution_count": null,
   "metadata": {},
   "outputs": [],
   "source": []
  }
 ],
 "metadata": {
  "kernelspec": {
   "display_name": "Python 3 (ipykernel)",
   "language": "python",
   "name": "python3"
  },
  "language_info": {
   "codemirror_mode": {
    "name": "ipython",
    "version": 3
   },
   "file_extension": ".py",
   "mimetype": "text/x-python",
   "name": "python",
   "nbconvert_exporter": "python",
   "pygments_lexer": "ipython3",
   "version": "3.10.11"
  }
 },
 "nbformat": 4,
 "nbformat_minor": 2
}
