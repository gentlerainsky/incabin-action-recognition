{
 "cells": [
  {
   "cell_type": "code",
   "execution_count": 2,
   "metadata": {},
   "outputs": [],
   "source": [
    "import pickle"
   ]
  },
  {
   "cell_type": "code",
   "execution_count": 10,
   "metadata": {},
   "outputs": [],
   "source": [
    "with open('output/inner_mirror_with_padding/pose2D.pkl', 'rb') as f:\n",
    "    pose2d_list = pickle.load(f)\n",
    "\n",
    "with open('output/inner_mirror_with_padding/frame_info.pkl', 'rb') as f:\n",
    "    frame_info_list = pickle.load(f)\n",
    "\n",
    "with open('output/inner_mirror_with_padding/annotation.pkl', 'rb') as f:\n",
    "    annotation_list = pickle.load(f)"
   ]
  },
  {
   "cell_type": "code",
   "execution_count": 12,
   "metadata": {},
   "outputs": [
    {
     "data": {
      "text/plain": [
       "participant_id                                             1\n",
       "video_name               vp1/run1b_2018-05-29-14-02-47.ids_1\n",
       "annotation_id                                              0\n",
       "activity                                standing_by_the_door\n",
       "annotated_frame_start                                      0\n",
       "annotated_frame_end                                       48\n",
       "frame_index_start                                          0\n",
       "frame_index_end                                           48\n",
       "Name: 0, dtype: object"
      ]
     },
     "execution_count": 12,
     "metadata": {},
     "output_type": "execute_result"
    }
   ],
   "source": [
    "annotation_list.iloc[0]"
   ]
  },
  {
   "cell_type": "code",
   "execution_count": 9,
   "metadata": {},
   "outputs": [],
   "source": [
    "# import pandas as pd\n",
    "# from pathlib import Path\n",
    "# pickle_path = './output/inner_mirror_with_padding'\n",
    "# pose2D_pickle_path = Path(pickle_path) / \"pose2D.pkl\"\n",
    "# annotation_pickle_path = Path(pickle_path) / \"annotation.pkl\"\n",
    "# annotation_df = pd.DataFrame.from_records(frame_info_list)\\\n",
    "#     .groupby(['participant_id', 'video_name', 'annotation_id'])\\\n",
    "#     .agg({\n",
    "#         'activity': 'first',\n",
    "#         'annotated_frame_start': 'first',\n",
    "#         'annotated_frame_end': 'first',\n",
    "#         'frame_index': ['min', 'max']\n",
    "#     }).reset_index()\n",
    "# annotation_df.columns = annotation_df.columns.map(lambda x: '_'.join([str(i) for i in x]))\n",
    "# annotation_df = annotation_df.rename(columns={\n",
    "#     'participant_id_': 'participant_id',\n",
    "#     'video_name_': 'video_name',\n",
    "#     'annotation_id_': 'annotation_id',\n",
    "#     'activity_first': 'activity',\n",
    "#     'annotated_frame_start_first': 'annotated_frame_start',\n",
    "#     'annotated_frame_end_first': 'annotated_frame_end',\n",
    "#     'frame_index_min': 'frame_index_start',\n",
    "#     'frame_index_max': 'frame_index_end'\n",
    "# })\n",
    "# annotation_df['frame_index_end'] = annotation_df['frame_index_end'] + 1\n",
    "# with open(annotation_pickle_path, 'wb') as f:\n",
    "#     pickle.dump(annotation_df, f)"
   ]
  },
  {
   "cell_type": "code",
   "execution_count": null,
   "metadata": {},
   "outputs": [],
   "source": []
  }
 ],
 "metadata": {
  "kernelspec": {
   "display_name": "Python 3 (ipykernel)",
   "language": "python",
   "name": "python3"
  },
  "language_info": {
   "codemirror_mode": {
    "name": "ipython",
    "version": 3
   },
   "file_extension": ".py",
   "mimetype": "text/x-python",
   "name": "python",
   "nbconvert_exporter": "python",
   "pygments_lexer": "ipython3",
   "version": "3.10.11"
  }
 },
 "nbformat": 4,
 "nbformat_minor": 2
}
