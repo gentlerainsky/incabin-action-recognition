{
 "cells": [
  {
   "cell_type": "code",
   "execution_count": 1,
   "metadata": {},
   "outputs": [],
   "source": [
    "import pickle\n",
    "from pathlib import Path\n",
    "import pandas as pd"
   ]
  },
  {
   "cell_type": "code",
   "execution_count": 2,
   "metadata": {},
   "outputs": [],
   "source": [
    "video_root = Path('/root/data/raw/drive_and_act/')\n",
    "annotation_path = video_root / 'iccv_activities_3s' / 'activities_3s' / 'inner_mirror' / 'midlevel.chunks_90.csv'\n",
    "raw_ann_df = pd.read_csv(annotation_path)"
   ]
  },
  {
   "cell_type": "code",
   "execution_count": 3,
   "metadata": {},
   "outputs": [],
   "source": [
    "with open('output/inner_mirror_with_padding/incorrect/pose2D.pkl', 'rb') as f:\n",
    "    pose2d_list = pickle.load(f)\n",
    "\n",
    "with open('output/inner_mirror_with_padding/incorrect/frame_info.pkl', 'rb') as f:\n",
    "    frame_info_list = pickle.load(f)\n",
    "\n",
    "# with open('output/inner_mirror_with_padding/annotation.pkl', 'rb') as f:\n",
    "#     annotation_df = pickle.load(f)"
   ]
  },
  {
   "cell_type": "code",
   "execution_count": 4,
   "metadata": {},
   "outputs": [],
   "source": [
    "frame_info_df = pd.DataFrame(frame_info_list)\n",
    "pose_2d_df = pd.DataFrame(pose2d_list)"
   ]
  },
  {
   "cell_type": "code",
   "execution_count": 5,
   "metadata": {},
   "outputs": [],
   "source": [
    "df = frame_info_df.merge(pose_2d_df, on='frame_index')\n",
    "df = df.reset_index()\n",
    "df.frame_index = df.index\n",
    "frame_info_df = df[frame_info_df.columns]\n",
    "pose_2d_df = df[pose_2d_df.columns]"
   ]
  },
  {
   "cell_type": "code",
   "execution_count": 6,
   "metadata": {},
   "outputs": [],
   "source": [
    "frame_info_list = frame_info_df.to_dict(orient='records')\n",
    "pose2d_list = pose_2d_df.to_dict(orient='records')\n",
    "pickle_path = './output/inner_mirror_with_padding'\n",
    "frame_info_pickle_path = Path(pickle_path) / \"frame_info.pkl\"\n",
    "annotation_pickle_path = Path(pickle_path) / \"annotation.pkl\"\n",
    "pose2D_pickle_path = Path(pickle_path) / \"pose2D.pkl\"\n",
    "\n",
    "with open(frame_info_pickle_path, \"wb\") as f:\n",
    "    pickle.dump(frame_info_list, f)\n",
    "with open(pose2D_pickle_path, \"wb\") as f:\n",
    "    pickle.dump(pose2d_list, f)"
   ]
  },
  {
   "cell_type": "code",
   "execution_count": 7,
   "metadata": {},
   "outputs": [],
   "source": [
    "annotation_df = pd.DataFrame.from_records(frame_info_list)\\\n",
    "    .groupby(['participant_id', 'video_name', 'annotation_id'])\\\n",
    "    .agg({\n",
    "        'activity': 'first',\n",
    "        'frame_index': ['min', 'max']\n",
    "    }).reset_index()\n",
    "annotation_df.columns = annotation_df.columns.map(lambda x: '_'.join([str(i) for i in x]))\n",
    "annotation_df = annotation_df.rename(columns={\n",
    "    'participant_id_': 'participant_id',\n",
    "    'video_name_': 'video_name',\n",
    "    'annotation_id_': 'annotation_id',\n",
    "    'activity_first': 'activity',\n",
    "    'annotated_frame_start_first': 'annotated_frame_start',\n",
    "    'annotated_frame_end_first': 'annotated_frame_end',\n",
    "    'frame_index_min': 'frame_index_start',\n",
    "    'frame_index_max': 'frame_index_end'\n",
    "})\n",
    "annotation_df['frame_index_end'] = annotation_df['frame_index_end'] + 1\n",
    "with open(annotation_pickle_path, 'wb') as f:\n",
    "    pickle.dump(annotation_df, f)"
   ]
  },
  {
   "cell_type": "code",
   "execution_count": 8,
   "metadata": {},
   "outputs": [],
   "source": [
    "# import pandas as pd\n",
    "# from pathlib import Path\n",
    "# pickle_path = './output/inner_mirror_with_padding'\n",
    "# pose2D_pickle_path = Path(pickle_path) / \"pose2D.pkl\"\n",
    "# annotation_pickle_path= Path(pickle_path) / \"annotation.pkl\"\n",
    "# annotation_df = pd.DataFrame.from_records(frame_info_list)\\\n",
    "#     .groupby(['participant_id', 'video_name', 'annotation_id'])\\\n",
    "#     .agg({\n",
    "#         'activity': 'first',\n",
    "#         'annotated_frame_start': 'first',\n",
    "#         'annotated_frame_end': 'first',\n",
    "#         'frame_index': ['min', 'max']\n",
    "#     }).reset_index()\n",
    "# annotation_df.columns = annotation_df.columns.map(lambda x: '_'.join([str(i) for i in x]))\n",
    "# annotation_df = annotation_df.rename(columns={\n",
    "#     'participant_id_': 'participant_id',\n",
    "#     'video_name_': 'video_name',\n",
    "#     'annotation_id_': 'annotation_id',\n",
    "#     'activity_first': 'activity',\n",
    "#     'annotated_frame_start_first': 'annotated_frame_start',\n",
    "#     'annotated_frame_end_first': 'annotated_frame_end',\n",
    "#     'frame_index_min': 'frame_index_start',\n",
    "#     'frame_index_max': 'frame_index_end'\n",
    "# })\n",
    "# annotation_df['frame_index_end'] = annotation_df['frame_index_end'] + 1\n",
    "# with open(annotation_pickle_path, 'wb') as f:\n",
    "#     pickle.dump(annotation_df, f)"
   ]
  },
  {
   "cell_type": "code",
   "execution_count": null,
   "metadata": {},
   "outputs": [],
   "source": []
  }
 ],
 "metadata": {
  "kernelspec": {
   "display_name": "Python 3 (ipykernel)",
   "language": "python",
   "name": "python3"
  }
 },
 "nbformat": 4,
 "nbformat_minor": 2
}
